{
  "nbformat": 4,
  "nbformat_minor": 0,
  "metadata": {
    "colab": {
      "provenance": [],
      "include_colab_link": true
    },
    "kernelspec": {
      "name": "python3",
      "display_name": "Python 3"
    },
    "language_info": {
      "name": "python"
    }
  },
  "cells": [
    {
      "cell_type": "markdown",
      "metadata": {
        "id": "view-in-github",
        "colab_type": "text"
      },
      "source": [
        "<a href=\"https://colab.research.google.com/github/Pala63/USO-IA-ESCUELAS-GRUPO5/blob/main/notebooks/.gitkeep.ipynb\" target=\"_parent\"><img src=\"https://colab.research.google.com/assets/colab-badge.svg\" alt=\"Open In Colab\"/></a>"
      ]
    },
    {
      "cell_type": "code",
      "execution_count": null,
      "metadata": {
        "colab": {
          "base_uri": "https://localhost:8080/",
          "height": 73
        },
        "id": "wnKU7rjtLHRa",
        "outputId": "31afe8cc-a3cf-4b1f-fee3-4496cff626d4"
      },
      "outputs": [
        {
          "output_type": "display_data",
          "data": {
            "text/plain": [
              "<IPython.core.display.HTML object>"
            ],
            "text/html": [
              "\n",
              "     <input type=\"file\" id=\"files-778fb90e-420f-4d10-a4f5-05cbb9146bb2\" name=\"files[]\" multiple disabled\n",
              "        style=\"border:none\" />\n",
              "     <output id=\"result-778fb90e-420f-4d10-a4f5-05cbb9146bb2\">\n",
              "      Upload widget is only available when the cell has been executed in the\n",
              "      current browser session. Please rerun this cell to enable.\n",
              "      </output>\n",
              "      <script>// Copyright 2017 Google LLC\n",
              "//\n",
              "// Licensed under the Apache License, Version 2.0 (the \"License\");\n",
              "// you may not use this file except in compliance with the License.\n",
              "// You may obtain a copy of the License at\n",
              "//\n",
              "//      http://www.apache.org/licenses/LICENSE-2.0\n",
              "//\n",
              "// Unless required by applicable law or agreed to in writing, software\n",
              "// distributed under the License is distributed on an \"AS IS\" BASIS,\n",
              "// WITHOUT WARRANTIES OR CONDITIONS OF ANY KIND, either express or implied.\n",
              "// See the License for the specific language governing permissions and\n",
              "// limitations under the License.\n",
              "\n",
              "/**\n",
              " * @fileoverview Helpers for google.colab Python module.\n",
              " */\n",
              "(function(scope) {\n",
              "function span(text, styleAttributes = {}) {\n",
              "  const element = document.createElement('span');\n",
              "  element.textContent = text;\n",
              "  for (const key of Object.keys(styleAttributes)) {\n",
              "    element.style[key] = styleAttributes[key];\n",
              "  }\n",
              "  return element;\n",
              "}\n",
              "\n",
              "// Max number of bytes which will be uploaded at a time.\n",
              "const MAX_PAYLOAD_SIZE = 100 * 1024;\n",
              "\n",
              "function _uploadFiles(inputId, outputId) {\n",
              "  const steps = uploadFilesStep(inputId, outputId);\n",
              "  const outputElement = document.getElementById(outputId);\n",
              "  // Cache steps on the outputElement to make it available for the next call\n",
              "  // to uploadFilesContinue from Python.\n",
              "  outputElement.steps = steps;\n",
              "\n",
              "  return _uploadFilesContinue(outputId);\n",
              "}\n",
              "\n",
              "// This is roughly an async generator (not supported in the browser yet),\n",
              "// where there are multiple asynchronous steps and the Python side is going\n",
              "// to poll for completion of each step.\n",
              "// This uses a Promise to block the python side on completion of each step,\n",
              "// then passes the result of the previous step as the input to the next step.\n",
              "function _uploadFilesContinue(outputId) {\n",
              "  const outputElement = document.getElementById(outputId);\n",
              "  const steps = outputElement.steps;\n",
              "\n",
              "  const next = steps.next(outputElement.lastPromiseValue);\n",
              "  return Promise.resolve(next.value.promise).then((value) => {\n",
              "    // Cache the last promise value to make it available to the next\n",
              "    // step of the generator.\n",
              "    outputElement.lastPromiseValue = value;\n",
              "    return next.value.response;\n",
              "  });\n",
              "}\n",
              "\n",
              "/**\n",
              " * Generator function which is called between each async step of the upload\n",
              " * process.\n",
              " * @param {string} inputId Element ID of the input file picker element.\n",
              " * @param {string} outputId Element ID of the output display.\n",
              " * @return {!Iterable<!Object>} Iterable of next steps.\n",
              " */\n",
              "function* uploadFilesStep(inputId, outputId) {\n",
              "  const inputElement = document.getElementById(inputId);\n",
              "  inputElement.disabled = false;\n",
              "\n",
              "  const outputElement = document.getElementById(outputId);\n",
              "  outputElement.innerHTML = '';\n",
              "\n",
              "  const pickedPromise = new Promise((resolve) => {\n",
              "    inputElement.addEventListener('change', (e) => {\n",
              "      resolve(e.target.files);\n",
              "    });\n",
              "  });\n",
              "\n",
              "  const cancel = document.createElement('button');\n",
              "  inputElement.parentElement.appendChild(cancel);\n",
              "  cancel.textContent = 'Cancel upload';\n",
              "  const cancelPromise = new Promise((resolve) => {\n",
              "    cancel.onclick = () => {\n",
              "      resolve(null);\n",
              "    };\n",
              "  });\n",
              "\n",
              "  // Wait for the user to pick the files.\n",
              "  const files = yield {\n",
              "    promise: Promise.race([pickedPromise, cancelPromise]),\n",
              "    response: {\n",
              "      action: 'starting',\n",
              "    }\n",
              "  };\n",
              "\n",
              "  cancel.remove();\n",
              "\n",
              "  // Disable the input element since further picks are not allowed.\n",
              "  inputElement.disabled = true;\n",
              "\n",
              "  if (!files) {\n",
              "    return {\n",
              "      response: {\n",
              "        action: 'complete',\n",
              "      }\n",
              "    };\n",
              "  }\n",
              "\n",
              "  for (const file of files) {\n",
              "    const li = document.createElement('li');\n",
              "    li.append(span(file.name, {fontWeight: 'bold'}));\n",
              "    li.append(span(\n",
              "        `(${file.type || 'n/a'}) - ${file.size} bytes, ` +\n",
              "        `last modified: ${\n",
              "            file.lastModifiedDate ? file.lastModifiedDate.toLocaleDateString() :\n",
              "                                    'n/a'} - `));\n",
              "    const percent = span('0% done');\n",
              "    li.appendChild(percent);\n",
              "\n",
              "    outputElement.appendChild(li);\n",
              "\n",
              "    const fileDataPromise = new Promise((resolve) => {\n",
              "      const reader = new FileReader();\n",
              "      reader.onload = (e) => {\n",
              "        resolve(e.target.result);\n",
              "      };\n",
              "      reader.readAsArrayBuffer(file);\n",
              "    });\n",
              "    // Wait for the data to be ready.\n",
              "    let fileData = yield {\n",
              "      promise: fileDataPromise,\n",
              "      response: {\n",
              "        action: 'continue',\n",
              "      }\n",
              "    };\n",
              "\n",
              "    // Use a chunked sending to avoid message size limits. See b/62115660.\n",
              "    let position = 0;\n",
              "    do {\n",
              "      const length = Math.min(fileData.byteLength - position, MAX_PAYLOAD_SIZE);\n",
              "      const chunk = new Uint8Array(fileData, position, length);\n",
              "      position += length;\n",
              "\n",
              "      const base64 = btoa(String.fromCharCode.apply(null, chunk));\n",
              "      yield {\n",
              "        response: {\n",
              "          action: 'append',\n",
              "          file: file.name,\n",
              "          data: base64,\n",
              "        },\n",
              "      };\n",
              "\n",
              "      let percentDone = fileData.byteLength === 0 ?\n",
              "          100 :\n",
              "          Math.round((position / fileData.byteLength) * 100);\n",
              "      percent.textContent = `${percentDone}% done`;\n",
              "\n",
              "    } while (position < fileData.byteLength);\n",
              "  }\n",
              "\n",
              "  // All done.\n",
              "  yield {\n",
              "    response: {\n",
              "      action: 'complete',\n",
              "    }\n",
              "  };\n",
              "}\n",
              "\n",
              "scope.google = scope.google || {};\n",
              "scope.google.colab = scope.google.colab || {};\n",
              "scope.google.colab._files = {\n",
              "  _uploadFiles,\n",
              "  _uploadFilesContinue,\n",
              "};\n",
              "})(self);\n",
              "</script> "
            ]
          },
          "metadata": {}
        },
        {
          "output_type": "stream",
          "name": "stdout",
          "text": [
            "Saving ai_assistant_usage_student_life.csv to ai_assistant_usage_student_life (1).csv\n"
          ]
        }
      ],
      "source": [
        "from google.colab import files\n",
        "uploaded = files.upload()\n"
      ]
    },
    {
      "cell_type": "code",
      "source": [],
      "metadata": {
        "id": "penfNed6RT62"
      },
      "execution_count": null,
      "outputs": []
    },
    {
      "cell_type": "code",
      "source": [
        "import pandas as pd\n",
        "\n",
        "df = pd.read_csv('ai_assistant_usage_student_life.csv')\n",
        "print(df.head())  # Muestra las primeras filas\n",
        "print(\"=\"*50)\n",
        "print(df.info())\n",
        "print(\"=\"*50)\n",
        "print(df.describe())\n",
        "print(\"=\"*50)\n",
        "print(df.isnull().sum())\n",
        "print(\"=\"*50)\n",
        "df.dropna(inplace=True)\n",
        "print(\"=\"*50)\n",
        "print(df['AI_AssistanceLevel'].value_counts())\n",
        "print(\"=\"*50)\n",
        "df['AI_AssistanceLevel'] = df['AI_AssistanceLevel'].astype('category')\n"
      ],
      "metadata": {
        "colab": {
          "base_uri": "https://localhost:8080/"
        },
        "id": "d1IOfcj7LSsg",
        "outputId": "59c3b714-ef3b-48c0-e21b-47d0dd636d33"
      },
      "execution_count": null,
      "outputs": [
        {
          "output_type": "stream",
          "name": "stdout",
          "text": [
            "      SessionID   StudentLevel        Discipline SessionDate  \\\n",
            "0  SESSION00001  Undergraduate  Computer Science  2024-11-03   \n",
            "1  SESSION00002  Undergraduate        Psychology  2024-08-25   \n",
            "2  SESSION00003  Undergraduate          Business  2025-01-12   \n",
            "3  SESSION00004  Undergraduate  Computer Science  2025-05-06   \n",
            "4  SESSION00005  Undergraduate        Psychology  2025-03-18   \n",
            "\n",
            "   SessionLengthMin  TotalPrompts  TaskType  AI_AssistanceLevel  \\\n",
            "0             31.20            11  Studying                   2   \n",
            "1             13.09             6  Studying                   3   \n",
            "2             19.22             5    Coding                   3   \n",
            "3              3.70             1    Coding                   3   \n",
            "4             28.12             9   Writing                   3   \n",
            "\n",
            "           FinalOutcome  UsedAgain  SatisfactionRating  \n",
            "0  Assignment Completed       True                 1.0  \n",
            "1  Assignment Completed       True                 2.0  \n",
            "2  Assignment Completed       True                 3.3  \n",
            "3  Assignment Completed       True                 3.5  \n",
            "4  Assignment Completed       True                 2.9  \n",
            "==================================================\n",
            "<class 'pandas.core.frame.DataFrame'>\n",
            "RangeIndex: 10000 entries, 0 to 9999\n",
            "Data columns (total 11 columns):\n",
            " #   Column              Non-Null Count  Dtype  \n",
            "---  ------              --------------  -----  \n",
            " 0   SessionID           10000 non-null  object \n",
            " 1   StudentLevel        10000 non-null  object \n",
            " 2   Discipline          10000 non-null  object \n",
            " 3   SessionDate         10000 non-null  object \n",
            " 4   SessionLengthMin    10000 non-null  float64\n",
            " 5   TotalPrompts        10000 non-null  int64  \n",
            " 6   TaskType            10000 non-null  object \n",
            " 7   AI_AssistanceLevel  10000 non-null  int64  \n",
            " 8   FinalOutcome        10000 non-null  object \n",
            " 9   UsedAgain           10000 non-null  bool   \n",
            " 10  SatisfactionRating  10000 non-null  float64\n",
            "dtypes: bool(1), float64(2), int64(2), object(6)\n",
            "memory usage: 791.1+ KB\n",
            "None\n",
            "==================================================\n",
            "       SessionLengthMin  TotalPrompts  AI_AssistanceLevel  SatisfactionRating\n",
            "count      10000.000000  10000.000000        10000.000000        10000.000000\n",
            "mean          19.846467      5.607500            3.479500            3.417780\n",
            "std           13.897302      4.648764            0.991805            1.143331\n",
            "min            0.030000      1.000000            1.000000            1.000000\n",
            "25%            9.630000      2.000000            3.000000            2.600000\n",
            "50%           16.650000      4.000000            4.000000            3.500000\n",
            "75%           26.670000      8.000000            4.000000            4.400000\n",
            "max          110.810000     39.000000            5.000000            5.000000\n",
            "==================================================\n",
            "SessionID             0\n",
            "StudentLevel          0\n",
            "Discipline            0\n",
            "SessionDate           0\n",
            "SessionLengthMin      0\n",
            "TotalPrompts          0\n",
            "TaskType              0\n",
            "AI_AssistanceLevel    0\n",
            "FinalOutcome          0\n",
            "UsedAgain             0\n",
            "SatisfactionRating    0\n",
            "dtype: int64\n",
            "==================================================\n",
            "==================================================\n",
            "AI_AssistanceLevel\n",
            "4    3451\n",
            "3    3361\n",
            "5    1591\n",
            "2    1356\n",
            "1     241\n",
            "Name: count, dtype: int64\n",
            "==================================================\n"
          ]
        }
      ]
    },
    {
      "cell_type": "code",
      "source": [
        "import pandas as pd\n",
        "import numpy as np\n",
        "import seaborn as sns\n",
        "import matplotlib.pyplot as plt\n",
        "\n",
        "\n",
        "# Mostrar primeras filas\n",
        "df.head()\n",
        "\n"
      ],
      "metadata": {
        "id": "r58VaPl3PIJZ",
        "colab": {
          "base_uri": "https://localhost:8080/",
          "height": 206
        },
        "outputId": "edd3f287-6a2a-44b7-e527-ba2975e5caa1"
      },
      "execution_count": 10,
      "outputs": [
        {
          "output_type": "execute_result",
          "data": {
            "text/plain": [
              "      SessionID   StudentLevel        Discipline SessionDate  \\\n",
              "0  SESSION00001  Undergraduate  Computer Science  2024-11-03   \n",
              "1  SESSION00002  Undergraduate        Psychology  2024-08-25   \n",
              "2  SESSION00003  Undergraduate          Business  2025-01-12   \n",
              "3  SESSION00004  Undergraduate  Computer Science  2025-05-06   \n",
              "4  SESSION00005  Undergraduate        Psychology  2025-03-18   \n",
              "\n",
              "   SessionLengthMin  TotalPrompts  TaskType AI_AssistanceLevel  \\\n",
              "0             31.20            11  Studying                  2   \n",
              "1             13.09             6  Studying                  3   \n",
              "2             19.22             5    Coding                  3   \n",
              "3              3.70             1    Coding                  3   \n",
              "4             28.12             9   Writing                  3   \n",
              "\n",
              "           FinalOutcome  UsedAgain  SatisfactionRating  \n",
              "0  Assignment Completed       True                 1.0  \n",
              "1  Assignment Completed       True                 2.0  \n",
              "2  Assignment Completed       True                 3.3  \n",
              "3  Assignment Completed       True                 3.5  \n",
              "4  Assignment Completed       True                 2.9  "
            ],
            "text/html": [
              "\n",
              "  <div id=\"df-0d3ca7d9-9130-45fa-a503-67b72f71cea0\" class=\"colab-df-container\">\n",
              "    <div>\n",
              "<style scoped>\n",
              "    .dataframe tbody tr th:only-of-type {\n",
              "        vertical-align: middle;\n",
              "    }\n",
              "\n",
              "    .dataframe tbody tr th {\n",
              "        vertical-align: top;\n",
              "    }\n",
              "\n",
              "    .dataframe thead th {\n",
              "        text-align: right;\n",
              "    }\n",
              "</style>\n",
              "<table border=\"1\" class=\"dataframe\">\n",
              "  <thead>\n",
              "    <tr style=\"text-align: right;\">\n",
              "      <th></th>\n",
              "      <th>SessionID</th>\n",
              "      <th>StudentLevel</th>\n",
              "      <th>Discipline</th>\n",
              "      <th>SessionDate</th>\n",
              "      <th>SessionLengthMin</th>\n",
              "      <th>TotalPrompts</th>\n",
              "      <th>TaskType</th>\n",
              "      <th>AI_AssistanceLevel</th>\n",
              "      <th>FinalOutcome</th>\n",
              "      <th>UsedAgain</th>\n",
              "      <th>SatisfactionRating</th>\n",
              "    </tr>\n",
              "  </thead>\n",
              "  <tbody>\n",
              "    <tr>\n",
              "      <th>0</th>\n",
              "      <td>SESSION00001</td>\n",
              "      <td>Undergraduate</td>\n",
              "      <td>Computer Science</td>\n",
              "      <td>2024-11-03</td>\n",
              "      <td>31.20</td>\n",
              "      <td>11</td>\n",
              "      <td>Studying</td>\n",
              "      <td>2</td>\n",
              "      <td>Assignment Completed</td>\n",
              "      <td>True</td>\n",
              "      <td>1.0</td>\n",
              "    </tr>\n",
              "    <tr>\n",
              "      <th>1</th>\n",
              "      <td>SESSION00002</td>\n",
              "      <td>Undergraduate</td>\n",
              "      <td>Psychology</td>\n",
              "      <td>2024-08-25</td>\n",
              "      <td>13.09</td>\n",
              "      <td>6</td>\n",
              "      <td>Studying</td>\n",
              "      <td>3</td>\n",
              "      <td>Assignment Completed</td>\n",
              "      <td>True</td>\n",
              "      <td>2.0</td>\n",
              "    </tr>\n",
              "    <tr>\n",
              "      <th>2</th>\n",
              "      <td>SESSION00003</td>\n",
              "      <td>Undergraduate</td>\n",
              "      <td>Business</td>\n",
              "      <td>2025-01-12</td>\n",
              "      <td>19.22</td>\n",
              "      <td>5</td>\n",
              "      <td>Coding</td>\n",
              "      <td>3</td>\n",
              "      <td>Assignment Completed</td>\n",
              "      <td>True</td>\n",
              "      <td>3.3</td>\n",
              "    </tr>\n",
              "    <tr>\n",
              "      <th>3</th>\n",
              "      <td>SESSION00004</td>\n",
              "      <td>Undergraduate</td>\n",
              "      <td>Computer Science</td>\n",
              "      <td>2025-05-06</td>\n",
              "      <td>3.70</td>\n",
              "      <td>1</td>\n",
              "      <td>Coding</td>\n",
              "      <td>3</td>\n",
              "      <td>Assignment Completed</td>\n",
              "      <td>True</td>\n",
              "      <td>3.5</td>\n",
              "    </tr>\n",
              "    <tr>\n",
              "      <th>4</th>\n",
              "      <td>SESSION00005</td>\n",
              "      <td>Undergraduate</td>\n",
              "      <td>Psychology</td>\n",
              "      <td>2025-03-18</td>\n",
              "      <td>28.12</td>\n",
              "      <td>9</td>\n",
              "      <td>Writing</td>\n",
              "      <td>3</td>\n",
              "      <td>Assignment Completed</td>\n",
              "      <td>True</td>\n",
              "      <td>2.9</td>\n",
              "    </tr>\n",
              "  </tbody>\n",
              "</table>\n",
              "</div>\n",
              "    <div class=\"colab-df-buttons\">\n",
              "\n",
              "  <div class=\"colab-df-container\">\n",
              "    <button class=\"colab-df-convert\" onclick=\"convertToInteractive('df-0d3ca7d9-9130-45fa-a503-67b72f71cea0')\"\n",
              "            title=\"Convert this dataframe to an interactive table.\"\n",
              "            style=\"display:none;\">\n",
              "\n",
              "  <svg xmlns=\"http://www.w3.org/2000/svg\" height=\"24px\" viewBox=\"0 -960 960 960\">\n",
              "    <path d=\"M120-120v-720h720v720H120Zm60-500h600v-160H180v160Zm220 220h160v-160H400v160Zm0 220h160v-160H400v160ZM180-400h160v-160H180v160Zm440 0h160v-160H620v160ZM180-180h160v-160H180v160Zm440 0h160v-160H620v160Z\"/>\n",
              "  </svg>\n",
              "    </button>\n",
              "\n",
              "  <style>\n",
              "    .colab-df-container {\n",
              "      display:flex;\n",
              "      gap: 12px;\n",
              "    }\n",
              "\n",
              "    .colab-df-convert {\n",
              "      background-color: #E8F0FE;\n",
              "      border: none;\n",
              "      border-radius: 50%;\n",
              "      cursor: pointer;\n",
              "      display: none;\n",
              "      fill: #1967D2;\n",
              "      height: 32px;\n",
              "      padding: 0 0 0 0;\n",
              "      width: 32px;\n",
              "    }\n",
              "\n",
              "    .colab-df-convert:hover {\n",
              "      background-color: #E2EBFA;\n",
              "      box-shadow: 0px 1px 2px rgba(60, 64, 67, 0.3), 0px 1px 3px 1px rgba(60, 64, 67, 0.15);\n",
              "      fill: #174EA6;\n",
              "    }\n",
              "\n",
              "    .colab-df-buttons div {\n",
              "      margin-bottom: 4px;\n",
              "    }\n",
              "\n",
              "    [theme=dark] .colab-df-convert {\n",
              "      background-color: #3B4455;\n",
              "      fill: #D2E3FC;\n",
              "    }\n",
              "\n",
              "    [theme=dark] .colab-df-convert:hover {\n",
              "      background-color: #434B5C;\n",
              "      box-shadow: 0px 1px 3px 1px rgba(0, 0, 0, 0.15);\n",
              "      filter: drop-shadow(0px 1px 2px rgba(0, 0, 0, 0.3));\n",
              "      fill: #FFFFFF;\n",
              "    }\n",
              "  </style>\n",
              "\n",
              "    <script>\n",
              "      const buttonEl =\n",
              "        document.querySelector('#df-0d3ca7d9-9130-45fa-a503-67b72f71cea0 button.colab-df-convert');\n",
              "      buttonEl.style.display =\n",
              "        google.colab.kernel.accessAllowed ? 'block' : 'none';\n",
              "\n",
              "      async function convertToInteractive(key) {\n",
              "        const element = document.querySelector('#df-0d3ca7d9-9130-45fa-a503-67b72f71cea0');\n",
              "        const dataTable =\n",
              "          await google.colab.kernel.invokeFunction('convertToInteractive',\n",
              "                                                    [key], {});\n",
              "        if (!dataTable) return;\n",
              "\n",
              "        const docLinkHtml = 'Like what you see? Visit the ' +\n",
              "          '<a target=\"_blank\" href=https://colab.research.google.com/notebooks/data_table.ipynb>data table notebook</a>'\n",
              "          + ' to learn more about interactive tables.';\n",
              "        element.innerHTML = '';\n",
              "        dataTable['output_type'] = 'display_data';\n",
              "        await google.colab.output.renderOutput(dataTable, element);\n",
              "        const docLink = document.createElement('div');\n",
              "        docLink.innerHTML = docLinkHtml;\n",
              "        element.appendChild(docLink);\n",
              "      }\n",
              "    </script>\n",
              "  </div>\n",
              "\n",
              "\n",
              "    <div id=\"df-3896ea05-e4a0-4068-aef5-14ed5e62e0b7\">\n",
              "      <button class=\"colab-df-quickchart\" onclick=\"quickchart('df-3896ea05-e4a0-4068-aef5-14ed5e62e0b7')\"\n",
              "                title=\"Suggest charts\"\n",
              "                style=\"display:none;\">\n",
              "\n",
              "<svg xmlns=\"http://www.w3.org/2000/svg\" height=\"24px\"viewBox=\"0 0 24 24\"\n",
              "     width=\"24px\">\n",
              "    <g>\n",
              "        <path d=\"M19 3H5c-1.1 0-2 .9-2 2v14c0 1.1.9 2 2 2h14c1.1 0 2-.9 2-2V5c0-1.1-.9-2-2-2zM9 17H7v-7h2v7zm4 0h-2V7h2v10zm4 0h-2v-4h2v4z\"/>\n",
              "    </g>\n",
              "</svg>\n",
              "      </button>\n",
              "\n",
              "<style>\n",
              "  .colab-df-quickchart {\n",
              "      --bg-color: #E8F0FE;\n",
              "      --fill-color: #1967D2;\n",
              "      --hover-bg-color: #E2EBFA;\n",
              "      --hover-fill-color: #174EA6;\n",
              "      --disabled-fill-color: #AAA;\n",
              "      --disabled-bg-color: #DDD;\n",
              "  }\n",
              "\n",
              "  [theme=dark] .colab-df-quickchart {\n",
              "      --bg-color: #3B4455;\n",
              "      --fill-color: #D2E3FC;\n",
              "      --hover-bg-color: #434B5C;\n",
              "      --hover-fill-color: #FFFFFF;\n",
              "      --disabled-bg-color: #3B4455;\n",
              "      --disabled-fill-color: #666;\n",
              "  }\n",
              "\n",
              "  .colab-df-quickchart {\n",
              "    background-color: var(--bg-color);\n",
              "    border: none;\n",
              "    border-radius: 50%;\n",
              "    cursor: pointer;\n",
              "    display: none;\n",
              "    fill: var(--fill-color);\n",
              "    height: 32px;\n",
              "    padding: 0;\n",
              "    width: 32px;\n",
              "  }\n",
              "\n",
              "  .colab-df-quickchart:hover {\n",
              "    background-color: var(--hover-bg-color);\n",
              "    box-shadow: 0 1px 2px rgba(60, 64, 67, 0.3), 0 1px 3px 1px rgba(60, 64, 67, 0.15);\n",
              "    fill: var(--button-hover-fill-color);\n",
              "  }\n",
              "\n",
              "  .colab-df-quickchart-complete:disabled,\n",
              "  .colab-df-quickchart-complete:disabled:hover {\n",
              "    background-color: var(--disabled-bg-color);\n",
              "    fill: var(--disabled-fill-color);\n",
              "    box-shadow: none;\n",
              "  }\n",
              "\n",
              "  .colab-df-spinner {\n",
              "    border: 2px solid var(--fill-color);\n",
              "    border-color: transparent;\n",
              "    border-bottom-color: var(--fill-color);\n",
              "    animation:\n",
              "      spin 1s steps(1) infinite;\n",
              "  }\n",
              "\n",
              "  @keyframes spin {\n",
              "    0% {\n",
              "      border-color: transparent;\n",
              "      border-bottom-color: var(--fill-color);\n",
              "      border-left-color: var(--fill-color);\n",
              "    }\n",
              "    20% {\n",
              "      border-color: transparent;\n",
              "      border-left-color: var(--fill-color);\n",
              "      border-top-color: var(--fill-color);\n",
              "    }\n",
              "    30% {\n",
              "      border-color: transparent;\n",
              "      border-left-color: var(--fill-color);\n",
              "      border-top-color: var(--fill-color);\n",
              "      border-right-color: var(--fill-color);\n",
              "    }\n",
              "    40% {\n",
              "      border-color: transparent;\n",
              "      border-right-color: var(--fill-color);\n",
              "      border-top-color: var(--fill-color);\n",
              "    }\n",
              "    60% {\n",
              "      border-color: transparent;\n",
              "      border-right-color: var(--fill-color);\n",
              "    }\n",
              "    80% {\n",
              "      border-color: transparent;\n",
              "      border-right-color: var(--fill-color);\n",
              "      border-bottom-color: var(--fill-color);\n",
              "    }\n",
              "    90% {\n",
              "      border-color: transparent;\n",
              "      border-bottom-color: var(--fill-color);\n",
              "    }\n",
              "  }\n",
              "</style>\n",
              "\n",
              "      <script>\n",
              "        async function quickchart(key) {\n",
              "          const quickchartButtonEl =\n",
              "            document.querySelector('#' + key + ' button');\n",
              "          quickchartButtonEl.disabled = true;  // To prevent multiple clicks.\n",
              "          quickchartButtonEl.classList.add('colab-df-spinner');\n",
              "          try {\n",
              "            const charts = await google.colab.kernel.invokeFunction(\n",
              "                'suggestCharts', [key], {});\n",
              "          } catch (error) {\n",
              "            console.error('Error during call to suggestCharts:', error);\n",
              "          }\n",
              "          quickchartButtonEl.classList.remove('colab-df-spinner');\n",
              "          quickchartButtonEl.classList.add('colab-df-quickchart-complete');\n",
              "        }\n",
              "        (() => {\n",
              "          let quickchartButtonEl =\n",
              "            document.querySelector('#df-3896ea05-e4a0-4068-aef5-14ed5e62e0b7 button');\n",
              "          quickchartButtonEl.style.display =\n",
              "            google.colab.kernel.accessAllowed ? 'block' : 'none';\n",
              "        })();\n",
              "      </script>\n",
              "    </div>\n",
              "\n",
              "    </div>\n",
              "  </div>\n"
            ],
            "application/vnd.google.colaboratory.intrinsic+json": {
              "type": "dataframe",
              "variable_name": "df",
              "summary": "{\n  \"name\": \"df\",\n  \"rows\": 10000,\n  \"fields\": [\n    {\n      \"column\": \"SessionID\",\n      \"properties\": {\n        \"dtype\": \"string\",\n        \"num_unique_values\": 10000,\n        \"samples\": [\n          \"SESSION06253\",\n          \"SESSION04685\",\n          \"SESSION01732\"\n        ],\n        \"semantic_type\": \"\",\n        \"description\": \"\"\n      }\n    },\n    {\n      \"column\": \"StudentLevel\",\n      \"properties\": {\n        \"dtype\": \"category\",\n        \"num_unique_values\": 3,\n        \"samples\": [\n          \"Undergraduate\",\n          \"Graduate\",\n          \"High School\"\n        ],\n        \"semantic_type\": \"\",\n        \"description\": \"\"\n      }\n    },\n    {\n      \"column\": \"Discipline\",\n      \"properties\": {\n        \"dtype\": \"category\",\n        \"num_unique_values\": 7,\n        \"samples\": [\n          \"Computer Science\",\n          \"Psychology\",\n          \"History\"\n        ],\n        \"semantic_type\": \"\",\n        \"description\": \"\"\n      }\n    },\n    {\n      \"column\": \"SessionDate\",\n      \"properties\": {\n        \"dtype\": \"object\",\n        \"num_unique_values\": 366,\n        \"samples\": [\n          \"2024-09-06\",\n          \"2025-03-21\",\n          \"2025-04-27\"\n        ],\n        \"semantic_type\": \"\",\n        \"description\": \"\"\n      }\n    },\n    {\n      \"column\": \"SessionLengthMin\",\n      \"properties\": {\n        \"dtype\": \"number\",\n        \"std\": 13.897301988089875,\n        \"min\": 0.03,\n        \"max\": 110.81,\n        \"num_unique_values\": 4078,\n        \"samples\": [\n          10.59,\n          52.44,\n          3.89\n        ],\n        \"semantic_type\": \"\",\n        \"description\": \"\"\n      }\n    },\n    {\n      \"column\": \"TotalPrompts\",\n      \"properties\": {\n        \"dtype\": \"number\",\n        \"std\": 4,\n        \"min\": 1,\n        \"max\": 39,\n        \"num_unique_values\": 37,\n        \"samples\": [\n          14,\n          19,\n          9\n        ],\n        \"semantic_type\": \"\",\n        \"description\": \"\"\n      }\n    },\n    {\n      \"column\": \"TaskType\",\n      \"properties\": {\n        \"dtype\": \"category\",\n        \"num_unique_values\": 6,\n        \"samples\": [\n          \"Studying\",\n          \"Coding\",\n          \"Research\"\n        ],\n        \"semantic_type\": \"\",\n        \"description\": \"\"\n      }\n    },\n    {\n      \"column\": \"AI_AssistanceLevel\",\n      \"properties\": {\n        \"dtype\": \"category\",\n        \"num_unique_values\": 5,\n        \"samples\": [\n          3,\n          1,\n          5\n        ],\n        \"semantic_type\": \"\",\n        \"description\": \"\"\n      }\n    },\n    {\n      \"column\": \"FinalOutcome\",\n      \"properties\": {\n        \"dtype\": \"category\",\n        \"num_unique_values\": 4,\n        \"samples\": [\n          \"Idea Drafted\",\n          \"Gave Up\",\n          \"Assignment Completed\"\n        ],\n        \"semantic_type\": \"\",\n        \"description\": \"\"\n      }\n    },\n    {\n      \"column\": \"UsedAgain\",\n      \"properties\": {\n        \"dtype\": \"boolean\",\n        \"num_unique_values\": 2,\n        \"samples\": [\n          false,\n          true\n        ],\n        \"semantic_type\": \"\",\n        \"description\": \"\"\n      }\n    },\n    {\n      \"column\": \"SatisfactionRating\",\n      \"properties\": {\n        \"dtype\": \"number\",\n        \"std\": 1.1433313571573371,\n        \"min\": 1.0,\n        \"max\": 5.0,\n        \"num_unique_values\": 41,\n        \"samples\": [\n          2.2,\n          4.4\n        ],\n        \"semantic_type\": \"\",\n        \"description\": \"\"\n      }\n    }\n  ]\n}"
            }
          },
          "metadata": {},
          "execution_count": 10
        }
      ]
    },
    {
      "cell_type": "code",
      "source": [
        "df.info()\n",
        "df.isnull().sum()\n"
      ],
      "metadata": {
        "colab": {
          "base_uri": "https://localhost:8080/",
          "height": 742
        },
        "id": "IjK7-rSuZyTL",
        "outputId": "540d5789-30f4-4746-b19e-3b09d6819104"
      },
      "execution_count": 11,
      "outputs": [
        {
          "output_type": "stream",
          "name": "stdout",
          "text": [
            "<class 'pandas.core.frame.DataFrame'>\n",
            "RangeIndex: 10000 entries, 0 to 9999\n",
            "Data columns (total 11 columns):\n",
            " #   Column              Non-Null Count  Dtype   \n",
            "---  ------              --------------  -----   \n",
            " 0   SessionID           10000 non-null  object  \n",
            " 1   StudentLevel        10000 non-null  object  \n",
            " 2   Discipline          10000 non-null  object  \n",
            " 3   SessionDate         10000 non-null  object  \n",
            " 4   SessionLengthMin    10000 non-null  float64 \n",
            " 5   TotalPrompts        10000 non-null  int64   \n",
            " 6   TaskType            10000 non-null  object  \n",
            " 7   AI_AssistanceLevel  10000 non-null  category\n",
            " 8   FinalOutcome        10000 non-null  object  \n",
            " 9   UsedAgain           10000 non-null  bool    \n",
            " 10  SatisfactionRating  10000 non-null  float64 \n",
            "dtypes: bool(1), category(1), float64(2), int64(1), object(6)\n",
            "memory usage: 723.0+ KB\n"
          ]
        },
        {
          "output_type": "execute_result",
          "data": {
            "text/plain": [
              "SessionID             0\n",
              "StudentLevel          0\n",
              "Discipline            0\n",
              "SessionDate           0\n",
              "SessionLengthMin      0\n",
              "TotalPrompts          0\n",
              "TaskType              0\n",
              "AI_AssistanceLevel    0\n",
              "FinalOutcome          0\n",
              "UsedAgain             0\n",
              "SatisfactionRating    0\n",
              "dtype: int64"
            ],
            "text/html": [
              "<div>\n",
              "<style scoped>\n",
              "    .dataframe tbody tr th:only-of-type {\n",
              "        vertical-align: middle;\n",
              "    }\n",
              "\n",
              "    .dataframe tbody tr th {\n",
              "        vertical-align: top;\n",
              "    }\n",
              "\n",
              "    .dataframe thead th {\n",
              "        text-align: right;\n",
              "    }\n",
              "</style>\n",
              "<table border=\"1\" class=\"dataframe\">\n",
              "  <thead>\n",
              "    <tr style=\"text-align: right;\">\n",
              "      <th></th>\n",
              "      <th>0</th>\n",
              "    </tr>\n",
              "  </thead>\n",
              "  <tbody>\n",
              "    <tr>\n",
              "      <th>SessionID</th>\n",
              "      <td>0</td>\n",
              "    </tr>\n",
              "    <tr>\n",
              "      <th>StudentLevel</th>\n",
              "      <td>0</td>\n",
              "    </tr>\n",
              "    <tr>\n",
              "      <th>Discipline</th>\n",
              "      <td>0</td>\n",
              "    </tr>\n",
              "    <tr>\n",
              "      <th>SessionDate</th>\n",
              "      <td>0</td>\n",
              "    </tr>\n",
              "    <tr>\n",
              "      <th>SessionLengthMin</th>\n",
              "      <td>0</td>\n",
              "    </tr>\n",
              "    <tr>\n",
              "      <th>TotalPrompts</th>\n",
              "      <td>0</td>\n",
              "    </tr>\n",
              "    <tr>\n",
              "      <th>TaskType</th>\n",
              "      <td>0</td>\n",
              "    </tr>\n",
              "    <tr>\n",
              "      <th>AI_AssistanceLevel</th>\n",
              "      <td>0</td>\n",
              "    </tr>\n",
              "    <tr>\n",
              "      <th>FinalOutcome</th>\n",
              "      <td>0</td>\n",
              "    </tr>\n",
              "    <tr>\n",
              "      <th>UsedAgain</th>\n",
              "      <td>0</td>\n",
              "    </tr>\n",
              "    <tr>\n",
              "      <th>SatisfactionRating</th>\n",
              "      <td>0</td>\n",
              "    </tr>\n",
              "  </tbody>\n",
              "</table>\n",
              "</div><br><label><b>dtype:</b> int64</label>"
            ]
          },
          "metadata": {},
          "execution_count": 11
        }
      ]
    },
    {
      "cell_type": "code",
      "source": [
        "import seaborn as sns\n",
        "import matplotlib.pyplot as plt\n",
        "\n",
        "sns.countplot(x='UsedAgain', data=df)\n",
        "plt.title(\"¿Volvieron a usar la IA?\")\n",
        "plt.show()\n"
      ],
      "metadata": {
        "colab": {
          "base_uri": "https://localhost:8080/",
          "height": 472
        },
        "id": "3ugj1ig-bPDK",
        "outputId": "c41feaa4-298b-424a-d5df-2188e29b8666"
      },
      "execution_count": 12,
      "outputs": [
        {
          "output_type": "display_data",
          "data": {
            "text/plain": [
              "<Figure size 640x480 with 1 Axes>"
            ],
            "image/png": "[encoded data removed]"
          },
          "metadata": {}
        }
      ]
    },
    {
      "cell_type": "code",
      "source": [
        "import pandas as pd\n",
        "\n",
        "# Conteo total por carrera\n",
        "df['Discipline'].value_counts()\n"
      ],
      "metadata": {
        "colab": {
          "base_uri": "https://localhost:8080/",
          "height": 335
        },
        "id": "JNAZINuBcE8h",
        "outputId": "d129b6dd-ec69-4c00-cd5c-ddc077b764cd"
      },
      "execution_count": 13,
      "outputs": [
        {
          "output_type": "execute_result",
          "data": {
            "text/plain": [
              "Discipline\n",
              "Biology             1458\n",
              "Computer Science    1445\n",
              "Engineering         1430\n",
              "Math                1422\n",
              "Psychology          1418\n",
              "History             1417\n",
              "Business            1410\n",
              "Name: count, dtype: int64"
            ],
            "text/html": [
              "<div>\n",
              "<style scoped>\n",
              "    .dataframe tbody tr th:only-of-type {\n",
              "        vertical-align: middle;\n",
              "    }\n",
              "\n",
              "    .dataframe tbody tr th {\n",
              "        vertical-align: top;\n",
              "    }\n",
              "\n",
              "    .dataframe thead th {\n",
              "        text-align: right;\n",
              "    }\n",
              "</style>\n",
              "<table border=\"1\" class=\"dataframe\">\n",
              "  <thead>\n",
              "    <tr style=\"text-align: right;\">\n",
              "      <th></th>\n",
              "      <th>count</th>\n",
              "    </tr>\n",
              "    <tr>\n",
              "      <th>Discipline</th>\n",
              "      <th></th>\n",
              "    </tr>\n",
              "  </thead>\n",
              "  <tbody>\n",
              "    <tr>\n",
              "      <th>Biology</th>\n",
              "      <td>1458</td>\n",
              "    </tr>\n",
              "    <tr>\n",
              "      <th>Computer Science</th>\n",
              "      <td>1445</td>\n",
              "    </tr>\n",
              "    <tr>\n",
              "      <th>Engineering</th>\n",
              "      <td>1430</td>\n",
              "    </tr>\n",
              "    <tr>\n",
              "      <th>Math</th>\n",
              "      <td>1422</td>\n",
              "    </tr>\n",
              "    <tr>\n",
              "      <th>Psychology</th>\n",
              "      <td>1418</td>\n",
              "    </tr>\n",
              "    <tr>\n",
              "      <th>History</th>\n",
              "      <td>1417</td>\n",
              "    </tr>\n",
              "    <tr>\n",
              "      <th>Business</th>\n",
              "      <td>1410</td>\n",
              "    </tr>\n",
              "  </tbody>\n",
              "</table>\n",
              "</div><br><label><b>dtype:</b> int64</label>"
            ]
          },
          "metadata": {},
          "execution_count": 13
        }
      ]
    },
    {
      "cell_type": "markdown",
      "source": [
        "#  **¿Qué carrera o disciplina usa más la IA, y por qué podría ser?**"
      ],
      "metadata": {
        "id": "YF31-Rc7du_A"
      }
    },
    {
      "cell_type": "code",
      "source": [
        "import seaborn as sns\n",
        "import matplotlib.pyplot as plt\n",
        "\n",
        "plt.figure(figsize=(12,6))\n",
        "sns.countplot(data=df, y='Discipline', order=df['Discipline'].value_counts().index)\n",
        "plt.title('Cantidad de sesiones por disciplina')\n",
        "plt.xlabel('Número de sesiones')\n",
        "plt.ylabel('Disciplina')\n",
        "plt.tight_layout()\n",
        "plt.show()\n"
      ],
      "metadata": {
        "colab": {
          "base_uri": "https://localhost:8080/",
          "height": 607
        },
        "id": "qzcsRxqNcYqy",
        "outputId": "e7f4fd4f-19ab-4801-8971-1ae8e5d8edd4"
      },
      "execution_count": 14,
      "outputs": [
        {
          "output_type": "display_data",
          "data": {
            "text/plain": [
              "<Figure size 1200x600 with 1 Axes>"
            ],
            "image/png": "[encoded data removed]"
          },
          "metadata": {}
        }
      ]
    },
    {
      "cell_type": "markdown",
      "source": [
        "**La disciplina con mas número de sesiones usando la IA es Bilogía, ya que esta carrera requiere más tareas escritas o de investigación es congruente que muestre estos resultados.**\n",
        "\n",
        "---\n",
        "\n"
      ],
      "metadata": {
        "id": "PMzQDdowd7vf"
      }
    },
    {
      "cell_type": "markdown",
      "source": [],
      "metadata": {
        "id": "3dnyUV9pdkpR"
      }
    },
    {
      "cell_type": "code",
      "source": [
        "# Porcentaje de sesiones con \"UsedAgain = True\" por disciplina\n",
        "used_again_rate = df.groupby('Discipline')['UsedAgain'].mean().sort_values(ascending=False)\n",
        "\n",
        "plt.figure(figsize=(12,6))\n",
        "sns.barplot(x=used_again_rate.values, y=used_again_rate.index)\n",
        "plt.title('Porcentaje de estudiantes que vuelven a usar la IA por disciplina')\n",
        "plt.xlabel('Tasa de reutilización')\n",
        "plt.ylabel('Disciplina')\n",
        "plt.tight_layout()\n",
        "plt.show()\n"
      ],
      "metadata": {
        "colab": {
          "base_uri": "https://localhost:8080/",
          "height": 607
        },
        "id": "sKtmQG_zdIZy",
        "outputId": "32699d14-9ae1-46ab-bbfd-36d1c145a46f"
      },
      "execution_count": 15,
      "outputs": [
        {
          "output_type": "display_data",
          "data": {
            "text/plain": [
              "<Figure size 1200x600 with 1 Axes>"
            ],
            "image/png": "[encoded data removed]"
          },
          "metadata": {}
        }
      ]
    },
    {
      "cell_type": "markdown",
      "source": [
        "**Quienes vuelven a usar la IA en repetidas ocasiones es Historia de ahi le siguen carreras como biología,etc.**"
      ],
      "metadata": {
        "id": "cVE1gcmreQSg"
      }
    },
    {
      "cell_type": "code",
      "source": [
        "df[df['Discipline'] == 'Biology']['TaskType'].value_counts(normalize=True)\n"
      ],
      "metadata": {
        "colab": {
          "base_uri": "https://localhost:8080/",
          "height": 304
        },
        "id": "2yMonkpIgx3x",
        "outputId": "dabdbebe-ba3e-48a8-b176-d591737623ce"
      },
      "execution_count": 19,
      "outputs": [
        {
          "output_type": "execute_result",
          "data": {
            "text/plain": [
              "TaskType\n",
              "Writing          0.298354\n",
              "Studying         0.213992\n",
              "Coding           0.207133\n",
              "Homework Help    0.206447\n",
              "Brainstorming    0.041838\n",
              "Research         0.032236\n",
              "Name: proportion, dtype: float64"
            ],
            "text/html": [
              "<div>\n",
              "<style scoped>\n",
              "    .dataframe tbody tr th:only-of-type {\n",
              "        vertical-align: middle;\n",
              "    }\n",
              "\n",
              "    .dataframe tbody tr th {\n",
              "        vertical-align: top;\n",
              "    }\n",
              "\n",
              "    .dataframe thead th {\n",
              "        text-align: right;\n",
              "    }\n",
              "</style>\n",
              "<table border=\"1\" class=\"dataframe\">\n",
              "  <thead>\n",
              "    <tr style=\"text-align: right;\">\n",
              "      <th></th>\n",
              "      <th>proportion</th>\n",
              "    </tr>\n",
              "    <tr>\n",
              "      <th>TaskType</th>\n",
              "      <th></th>\n",
              "    </tr>\n",
              "  </thead>\n",
              "  <tbody>\n",
              "    <tr>\n",
              "      <th>Writing</th>\n",
              "      <td>0.298354</td>\n",
              "    </tr>\n",
              "    <tr>\n",
              "      <th>Studying</th>\n",
              "      <td>0.213992</td>\n",
              "    </tr>\n",
              "    <tr>\n",
              "      <th>Coding</th>\n",
              "      <td>0.207133</td>\n",
              "    </tr>\n",
              "    <tr>\n",
              "      <th>Homework Help</th>\n",
              "      <td>0.206447</td>\n",
              "    </tr>\n",
              "    <tr>\n",
              "      <th>Brainstorming</th>\n",
              "      <td>0.041838</td>\n",
              "    </tr>\n",
              "    <tr>\n",
              "      <th>Research</th>\n",
              "      <td>0.032236</td>\n",
              "    </tr>\n",
              "  </tbody>\n",
              "</table>\n",
              "</div><br><label><b>dtype:</b> float64</label>"
            ]
          },
          "metadata": {},
          "execution_count": 19
        }
      ]
    },
    {
      "cell_type": "markdown",
      "source": [
        "**El tipo de tarea que mas hacen los estudiantes de Biología es Writing esto se relaciona con trabajos de investigación y redacción y puede ser uno de las razones de por que es la carrera con mas uso de la IA.**"
      ],
      "metadata": {
        "id": "gZDmAyKKiXBC"
      }
    },
    {
      "cell_type": "code",
      "source": [
        "df[df['Discipline'] == 'Biology']['AI_AssistanceLevel'].value_counts(normalize=True)\n"
      ],
      "metadata": {
        "colab": {
          "base_uri": "https://localhost:8080/",
          "height": 272
        },
        "id": "fwcK61QAipuH",
        "outputId": "a4055b05-e190-4851-b083-0e1020721876"
      },
      "execution_count": 20,
      "outputs": [
        {
          "output_type": "execute_result",
          "data": {
            "text/plain": [
              "AI_AssistanceLevel\n",
              "4    0.357339\n",
              "3    0.316187\n",
              "5    0.161866\n",
              "2    0.141289\n",
              "1    0.023320\n",
              "Name: proportion, dtype: float64"
            ],
            "text/html": [
              "<div>\n",
              "<style scoped>\n",
              "    .dataframe tbody tr th:only-of-type {\n",
              "        vertical-align: middle;\n",
              "    }\n",
              "\n",
              "    .dataframe tbody tr th {\n",
              "        vertical-align: top;\n",
              "    }\n",
              "\n",
              "    .dataframe thead th {\n",
              "        text-align: right;\n",
              "    }\n",
              "</style>\n",
              "<table border=\"1\" class=\"dataframe\">\n",
              "  <thead>\n",
              "    <tr style=\"text-align: right;\">\n",
              "      <th></th>\n",
              "      <th>proportion</th>\n",
              "    </tr>\n",
              "    <tr>\n",
              "      <th>AI_AssistanceLevel</th>\n",
              "      <th></th>\n",
              "    </tr>\n",
              "  </thead>\n",
              "  <tbody>\n",
              "    <tr>\n",
              "      <th>4</th>\n",
              "      <td>0.357339</td>\n",
              "    </tr>\n",
              "    <tr>\n",
              "      <th>3</th>\n",
              "      <td>0.316187</td>\n",
              "    </tr>\n",
              "    <tr>\n",
              "      <th>5</th>\n",
              "      <td>0.161866</td>\n",
              "    </tr>\n",
              "    <tr>\n",
              "      <th>2</th>\n",
              "      <td>0.141289</td>\n",
              "    </tr>\n",
              "    <tr>\n",
              "      <th>1</th>\n",
              "      <td>0.023320</td>\n",
              "    </tr>\n",
              "  </tbody>\n",
              "</table>\n",
              "</div><br><label><b>dtype:</b> float64</label>"
            ]
          },
          "metadata": {},
          "execution_count": 20
        }
      ]
    },
    {
      "cell_type": "code",
      "source": [
        "# Asegurarse de que sea tipo numérico (por si es 'category' u 'object')\n",
        "df['AI_AssistanceLevel'] = pd.to_numeric(df['AI_AssistanceLevel'], errors='coerce')\n",
        "\n",
        "# Filtrar por Biología y calcular el promedio\n",
        "promedio_asistencia_biologia = df[df['Discipline'] == 'Biology']['AI_AssistanceLevel'].mean()\n",
        "\n",
        "print(f\"Promedio de nivel de asistencia de IA en Biología: {promedio_asistencia_biologia:.2f}\")\n"
      ],
      "metadata": {
        "colab": {
          "base_uri": "https://localhost:8080/"
        },
        "id": "7Q8FWvESj8Yy",
        "outputId": "bf4440cc-dba5-40eb-b2c4-ac39fec9e1b8"
      },
      "execution_count": 21,
      "outputs": [
        {
          "output_type": "stream",
          "name": "stdout",
          "text": [
            "Promedio de nivel de asistencia de IA en Biología: 3.49\n"
          ]
        }
      ]
    },
    {
      "cell_type": "code",
      "source": [
        "df[df['Discipline'] == 'Biology']['StudentLevel'].value_counts(normalize=True)\n"
      ],
      "metadata": {
        "colab": {
          "base_uri": "https://localhost:8080/",
          "height": 210
        },
        "id": "V4wnOwi9kLYa",
        "outputId": "aea30eb0-b8ca-4b94-e0ce-a8924d76c2da"
      },
      "execution_count": 22,
      "outputs": [
        {
          "output_type": "execute_result",
          "data": {
            "text/plain": [
              "StudentLevel\n",
              "Undergraduate    0.594650\n",
              "High School      0.206447\n",
              "Graduate         0.198903\n",
              "Name: proportion, dtype: float64"
            ],
            "text/html": [
              "<div>\n",
              "<style scoped>\n",
              "    .dataframe tbody tr th:only-of-type {\n",
              "        vertical-align: middle;\n",
              "    }\n",
              "\n",
              "    .dataframe tbody tr th {\n",
              "        vertical-align: top;\n",
              "    }\n",
              "\n",
              "    .dataframe thead th {\n",
              "        text-align: right;\n",
              "    }\n",
              "</style>\n",
              "<table border=\"1\" class=\"dataframe\">\n",
              "  <thead>\n",
              "    <tr style=\"text-align: right;\">\n",
              "      <th></th>\n",
              "      <th>proportion</th>\n",
              "    </tr>\n",
              "    <tr>\n",
              "      <th>StudentLevel</th>\n",
              "      <th></th>\n",
              "    </tr>\n",
              "  </thead>\n",
              "  <tbody>\n",
              "    <tr>\n",
              "      <th>Undergraduate</th>\n",
              "      <td>0.594650</td>\n",
              "    </tr>\n",
              "    <tr>\n",
              "      <th>High School</th>\n",
              "      <td>0.206447</td>\n",
              "    </tr>\n",
              "    <tr>\n",
              "      <th>Graduate</th>\n",
              "      <td>0.198903</td>\n",
              "    </tr>\n",
              "  </tbody>\n",
              "</table>\n",
              "</div><br><label><b>dtype:</b> float64</label>"
            ]
          },
          "metadata": {},
          "execution_count": 22
        }
      ]
    },
    {
      "cell_type": "code",
      "source": [
        "df[df['Discipline'] == 'History']['StudentLevel'].value_counts(normalize=True)\n"
      ],
      "metadata": {
        "colab": {
          "base_uri": "https://localhost:8080/",
          "height": 210
        },
        "id": "LYJQ6bDfxk3Y",
        "outputId": "d3cccbc7-466b-4020-981a-4bc0e7f1de5d"
      },
      "execution_count": 32,
      "outputs": [
        {
          "output_type": "execute_result",
          "data": {
            "text/plain": [
              "StudentLevel\n",
              "Undergraduate    0.591390\n",
              "High School      0.208892\n",
              "Graduate         0.199718\n",
              "Name: proportion, dtype: float64"
            ],
            "text/html": [
              "<div>\n",
              "<style scoped>\n",
              "    .dataframe tbody tr th:only-of-type {\n",
              "        vertical-align: middle;\n",
              "    }\n",
              "\n",
              "    .dataframe tbody tr th {\n",
              "        vertical-align: top;\n",
              "    }\n",
              "\n",
              "    .dataframe thead th {\n",
              "        text-align: right;\n",
              "    }\n",
              "</style>\n",
              "<table border=\"1\" class=\"dataframe\">\n",
              "  <thead>\n",
              "    <tr style=\"text-align: right;\">\n",
              "      <th></th>\n",
              "      <th>proportion</th>\n",
              "    </tr>\n",
              "    <tr>\n",
              "      <th>StudentLevel</th>\n",
              "      <th></th>\n",
              "    </tr>\n",
              "  </thead>\n",
              "  <tbody>\n",
              "    <tr>\n",
              "      <th>Undergraduate</th>\n",
              "      <td>0.591390</td>\n",
              "    </tr>\n",
              "    <tr>\n",
              "      <th>High School</th>\n",
              "      <td>0.208892</td>\n",
              "    </tr>\n",
              "    <tr>\n",
              "      <th>Graduate</th>\n",
              "      <td>0.199718</td>\n",
              "    </tr>\n",
              "  </tbody>\n",
              "</table>\n",
              "</div><br><label><b>dtype:</b> float64</label>"
            ]
          },
          "metadata": {},
          "execution_count": 32
        }
      ]
    },
    {
      "cell_type": "markdown",
      "source": [
        "**Según el análisis del dataset, observamos que los estudiantes de nivel Undergraduate representan el 59.46% de las sesiones con asistencia de IA, muy por encima de los estudiantes de High School (20.64%) y Graduate (19.89%). Esto indica que los estudiantes que recién están comenzando sus estudios universitarios son quienes más utilizan la inteligencia artificial como herramienta de apoyo para aprender.**"
      ],
      "metadata": {
        "id": "3ZmNiCBpka3P"
      }
    },
    {
      "cell_type": "markdown",
      "source": [
        "**¿Por qué Historia tiene mayor tasa de reutilización?**"
      ],
      "metadata": {
        "id": "nIFhyMnDnKMK"
      }
    },
    {
      "cell_type": "code",
      "source": [
        "# Agrupar por disciplina y calcular el promedio de satisfacción\n",
        "df.groupby('Discipline')['SatisfactionRating'].mean().sort_values(ascending=False)\n"
      ],
      "metadata": {
        "colab": {
          "base_uri": "https://localhost:8080/",
          "height": 335
        },
        "id": "aI6Ssd-UnXHW",
        "outputId": "5dbc0683-baee-4825-e581-4aa51615d0a4"
      },
      "execution_count": 25,
      "outputs": [
        {
          "output_type": "execute_result",
          "data": {
            "text/plain": [
              "Discipline\n",
              "Biology             3.450000\n",
              "History             3.438038\n",
              "Psychology          3.432017\n",
              "Math                3.419058\n",
              "Computer Science    3.416263\n",
              "Business            3.387943\n",
              "Engineering         3.380420\n",
              "Name: SatisfactionRating, dtype: float64"
            ],
            "text/html": [
              "<div>\n",
              "<style scoped>\n",
              "    .dataframe tbody tr th:only-of-type {\n",
              "        vertical-align: middle;\n",
              "    }\n",
              "\n",
              "    .dataframe tbody tr th {\n",
              "        vertical-align: top;\n",
              "    }\n",
              "\n",
              "    .dataframe thead th {\n",
              "        text-align: right;\n",
              "    }\n",
              "</style>\n",
              "<table border=\"1\" class=\"dataframe\">\n",
              "  <thead>\n",
              "    <tr style=\"text-align: right;\">\n",
              "      <th></th>\n",
              "      <th>SatisfactionRating</th>\n",
              "    </tr>\n",
              "    <tr>\n",
              "      <th>Discipline</th>\n",
              "      <th></th>\n",
              "    </tr>\n",
              "  </thead>\n",
              "  <tbody>\n",
              "    <tr>\n",
              "      <th>Biology</th>\n",
              "      <td>3.450000</td>\n",
              "    </tr>\n",
              "    <tr>\n",
              "      <th>History</th>\n",
              "      <td>3.438038</td>\n",
              "    </tr>\n",
              "    <tr>\n",
              "      <th>Psychology</th>\n",
              "      <td>3.432017</td>\n",
              "    </tr>\n",
              "    <tr>\n",
              "      <th>Math</th>\n",
              "      <td>3.419058</td>\n",
              "    </tr>\n",
              "    <tr>\n",
              "      <th>Computer Science</th>\n",
              "      <td>3.416263</td>\n",
              "    </tr>\n",
              "    <tr>\n",
              "      <th>Business</th>\n",
              "      <td>3.387943</td>\n",
              "    </tr>\n",
              "    <tr>\n",
              "      <th>Engineering</th>\n",
              "      <td>3.380420</td>\n",
              "    </tr>\n",
              "  </tbody>\n",
              "</table>\n",
              "</div><br><label><b>dtype:</b> float64</label>"
            ]
          },
          "metadata": {},
          "execution_count": 25
        }
      ]
    },
    {
      "cell_type": "markdown",
      "source": [
        "**Podemos ver que historia tiene la segunda tasa mas alta de satisfacción haciendo uso de la IA. Esto nos señala que puede tener una alta probabilidad de fidelización.**"
      ],
      "metadata": {
        "id": "YAfuK9ZQo6oT"
      }
    },
    {
      "cell_type": "code",
      "source": [
        "df[df['Discipline'] == 'History'][['TaskType', 'FinalOutcome']].value_counts(normalize=True)\n"
      ],
      "metadata": {
        "colab": {
          "base_uri": "https://localhost:8080/",
          "height": 868
        },
        "id": "xp--XpqNsye0",
        "outputId": "6bebf6d6-5d57-4757-8f31-ca0ba500b055"
      },
      "execution_count": 27,
      "outputs": [
        {
          "output_type": "execute_result",
          "data": {
            "text/plain": [
              "TaskType       FinalOutcome        \n",
              "Writing        Assignment Completed    0.151023\n",
              "               Idea Drafted            0.118560\n",
              "Coding         Assignment Completed    0.112915\n",
              "Homework Help  Assignment Completed    0.100212\n",
              "Studying       Assignment Completed    0.074100\n",
              "               Idea Drafted            0.060692\n",
              "Coding         Idea Drafted            0.043049\n",
              "Homework Help  Idea Drafted            0.042343\n",
              "               Confused                0.040226\n",
              "Studying       Confused                0.035286\n",
              "Writing        Confused                0.031052\n",
              "Coding         Confused                0.029640\n",
              "Brainstorming  Idea Drafted            0.022583\n",
              "Studying       Gave Up                 0.020466\n",
              "Research       Assignment Completed    0.017643\n",
              "               Idea Drafted            0.016231\n",
              "Homework Help  Gave Up                 0.015526\n",
              "Research       Confused                0.014114\n",
              "Writing        Gave Up                 0.012703\n",
              "Brainstorming  Confused                0.010586\n",
              "Coding         Gave Up                 0.010586\n",
              "Research       Gave Up                 0.010586\n",
              "Brainstorming  Assignment Completed    0.007763\n",
              "               Gave Up                 0.002117\n",
              "Name: proportion, dtype: float64"
            ],
            "text/html": [
              "<div>\n",
              "<style scoped>\n",
              "    .dataframe tbody tr th:only-of-type {\n",
              "        vertical-align: middle;\n",
              "    }\n",
              "\n",
              "    .dataframe tbody tr th {\n",
              "        vertical-align: top;\n",
              "    }\n",
              "\n",
              "    .dataframe thead th {\n",
              "        text-align: right;\n",
              "    }\n",
              "</style>\n",
              "<table border=\"1\" class=\"dataframe\">\n",
              "  <thead>\n",
              "    <tr style=\"text-align: right;\">\n",
              "      <th></th>\n",
              "      <th></th>\n",
              "      <th>proportion</th>\n",
              "    </tr>\n",
              "    <tr>\n",
              "      <th>TaskType</th>\n",
              "      <th>FinalOutcome</th>\n",
              "      <th></th>\n",
              "    </tr>\n",
              "  </thead>\n",
              "  <tbody>\n",
              "    <tr>\n",
              "      <th rowspan=\"2\" valign=\"top\">Writing</th>\n",
              "      <th>Assignment Completed</th>\n",
              "      <td>0.151023</td>\n",
              "    </tr>\n",
              "    <tr>\n",
              "      <th>Idea Drafted</th>\n",
              "      <td>0.118560</td>\n",
              "    </tr>\n",
              "    <tr>\n",
              "      <th>Coding</th>\n",
              "      <th>Assignment Completed</th>\n",
              "      <td>0.112915</td>\n",
              "    </tr>\n",
              "    <tr>\n",
              "      <th>Homework Help</th>\n",
              "      <th>Assignment Completed</th>\n",
              "      <td>0.100212</td>\n",
              "    </tr>\n",
              "    <tr>\n",
              "      <th rowspan=\"2\" valign=\"top\">Studying</th>\n",
              "      <th>Assignment Completed</th>\n",
              "      <td>0.074100</td>\n",
              "    </tr>\n",
              "    <tr>\n",
              "      <th>Idea Drafted</th>\n",
              "      <td>0.060692</td>\n",
              "    </tr>\n",
              "    <tr>\n",
              "      <th>Coding</th>\n",
              "      <th>Idea Drafted</th>\n",
              "      <td>0.043049</td>\n",
              "    </tr>\n",
              "    <tr>\n",
              "      <th rowspan=\"2\" valign=\"top\">Homework Help</th>\n",
              "      <th>Idea Drafted</th>\n",
              "      <td>0.042343</td>\n",
              "    </tr>\n",
              "    <tr>\n",
              "      <th>Confused</th>\n",
              "      <td>0.040226</td>\n",
              "    </tr>\n",
              "    <tr>\n",
              "      <th>Studying</th>\n",
              "      <th>Confused</th>\n",
              "      <td>0.035286</td>\n",
              "    </tr>\n",
              "    <tr>\n",
              "      <th>Writing</th>\n",
              "      <th>Confused</th>\n",
              "      <td>0.031052</td>\n",
              "    </tr>\n",
              "    <tr>\n",
              "      <th>Coding</th>\n",
              "      <th>Confused</th>\n",
              "      <td>0.029640</td>\n",
              "    </tr>\n",
              "    <tr>\n",
              "      <th>Brainstorming</th>\n",
              "      <th>Idea Drafted</th>\n",
              "      <td>0.022583</td>\n",
              "    </tr>\n",
              "    <tr>\n",
              "      <th>Studying</th>\n",
              "      <th>Gave Up</th>\n",
              "      <td>0.020466</td>\n",
              "    </tr>\n",
              "    <tr>\n",
              "      <th rowspan=\"2\" valign=\"top\">Research</th>\n",
              "      <th>Assignment Completed</th>\n",
              "      <td>0.017643</td>\n",
              "    </tr>\n",
              "    <tr>\n",
              "      <th>Idea Drafted</th>\n",
              "      <td>0.016231</td>\n",
              "    </tr>\n",
              "    <tr>\n",
              "      <th>Homework Help</th>\n",
              "      <th>Gave Up</th>\n",
              "      <td>0.015526</td>\n",
              "    </tr>\n",
              "    <tr>\n",
              "      <th>Research</th>\n",
              "      <th>Confused</th>\n",
              "      <td>0.014114</td>\n",
              "    </tr>\n",
              "    <tr>\n",
              "      <th>Writing</th>\n",
              "      <th>Gave Up</th>\n",
              "      <td>0.012703</td>\n",
              "    </tr>\n",
              "    <tr>\n",
              "      <th>Brainstorming</th>\n",
              "      <th>Confused</th>\n",
              "      <td>0.010586</td>\n",
              "    </tr>\n",
              "    <tr>\n",
              "      <th>Coding</th>\n",
              "      <th>Gave Up</th>\n",
              "      <td>0.010586</td>\n",
              "    </tr>\n",
              "    <tr>\n",
              "      <th>Research</th>\n",
              "      <th>Gave Up</th>\n",
              "      <td>0.010586</td>\n",
              "    </tr>\n",
              "    <tr>\n",
              "      <th rowspan=\"2\" valign=\"top\">Brainstorming</th>\n",
              "      <th>Assignment Completed</th>\n",
              "      <td>0.007763</td>\n",
              "    </tr>\n",
              "    <tr>\n",
              "      <th>Gave Up</th>\n",
              "      <td>0.002117</td>\n",
              "    </tr>\n",
              "  </tbody>\n",
              "</table>\n",
              "</div><br><label><b>dtype:</b> float64</label>"
            ]
          },
          "metadata": {},
          "execution_count": 27
        }
      ]
    },
    {
      "cell_type": "code",
      "source": [
        "df[df['Discipline'] == 'History']['SessionLengthMin'].mean()\n"
      ],
      "metadata": {
        "colab": {
          "base_uri": "https://localhost:8080/"
        },
        "id": "IbZ6L8bhtGYJ",
        "outputId": "7a3bb4fc-78e0-4c2a-d74c-704e6c8ebbeb"
      },
      "execution_count": 28,
      "outputs": [
        {
          "output_type": "execute_result",
          "data": {
            "text/plain": [
              "np.float64(19.76281580804517)"
            ]
          },
          "metadata": {},
          "execution_count": 28
        }
      ]
    },
    {
      "cell_type": "code",
      "source": [
        "df[df['Discipline'] == 'Biology']['SessionLengthMin'].mean()"
      ],
      "metadata": {
        "colab": {
          "base_uri": "https://localhost:8080/"
        },
        "id": "WxinjuwctMn1",
        "outputId": "88d5316f-72f0-40df-bac9-3c3992c1c1cf"
      },
      "execution_count": 29,
      "outputs": [
        {
          "output_type": "execute_result",
          "data": {
            "text/plain": [
              "np.float64(19.944958847736626)"
            ]
          },
          "metadata": {},
          "execution_count": 29
        }
      ]
    },
    {
      "cell_type": "code",
      "source": [
        "# Agrupar por disciplina y calcular el promedio de satisfacción\n",
        "df.groupby('Discipline')['SatisfactionRating'].mean().sort_values(ascending=False)\n"
      ],
      "metadata": {
        "colab": {
          "base_uri": "https://localhost:8080/",
          "height": 335
        },
        "id": "unIPH_eVtnIU",
        "outputId": "f77c777f-b30a-4491-e72c-378cf25ea121"
      },
      "execution_count": 30,
      "outputs": [
        {
          "output_type": "execute_result",
          "data": {
            "text/plain": [
              "Discipline\n",
              "Biology             3.450000\n",
              "History             3.438038\n",
              "Psychology          3.432017\n",
              "Math                3.419058\n",
              "Computer Science    3.416263\n",
              "Business            3.387943\n",
              "Engineering         3.380420\n",
              "Name: SatisfactionRating, dtype: float64"
            ],
            "text/html": [
              "<div>\n",
              "<style scoped>\n",
              "    .dataframe tbody tr th:only-of-type {\n",
              "        vertical-align: middle;\n",
              "    }\n",
              "\n",
              "    .dataframe tbody tr th {\n",
              "        vertical-align: top;\n",
              "    }\n",
              "\n",
              "    .dataframe thead th {\n",
              "        text-align: right;\n",
              "    }\n",
              "</style>\n",
              "<table border=\"1\" class=\"dataframe\">\n",
              "  <thead>\n",
              "    <tr style=\"text-align: right;\">\n",
              "      <th></th>\n",
              "      <th>SatisfactionRating</th>\n",
              "    </tr>\n",
              "    <tr>\n",
              "      <th>Discipline</th>\n",
              "      <th></th>\n",
              "    </tr>\n",
              "  </thead>\n",
              "  <tbody>\n",
              "    <tr>\n",
              "      <th>Biology</th>\n",
              "      <td>3.450000</td>\n",
              "    </tr>\n",
              "    <tr>\n",
              "      <th>History</th>\n",
              "      <td>3.438038</td>\n",
              "    </tr>\n",
              "    <tr>\n",
              "      <th>Psychology</th>\n",
              "      <td>3.432017</td>\n",
              "    </tr>\n",
              "    <tr>\n",
              "      <th>Math</th>\n",
              "      <td>3.419058</td>\n",
              "    </tr>\n",
              "    <tr>\n",
              "      <th>Computer Science</th>\n",
              "      <td>3.416263</td>\n",
              "    </tr>\n",
              "    <tr>\n",
              "      <th>Business</th>\n",
              "      <td>3.387943</td>\n",
              "    </tr>\n",
              "    <tr>\n",
              "      <th>Engineering</th>\n",
              "      <td>3.380420</td>\n",
              "    </tr>\n",
              "  </tbody>\n",
              "</table>\n",
              "</div><br><label><b>dtype:</b> float64</label>"
            ]
          },
          "metadata": {},
          "execution_count": 30
        }
      ]
    },
    {
      "cell_type": "code",
      "source": [
        "# Agrupar por disciplina y calcular el % de estudiantes que repitieron el uso de la IA\n",
        "df.groupby('Discipline')['UsedAgain'].mean().sort_values(ascending=False)\n"
      ],
      "metadata": {
        "colab": {
          "base_uri": "https://localhost:8080/",
          "height": 335
        },
        "id": "ZO5DuY_soJWR",
        "outputId": "10493090-3604-498f-8a46-d9c13e5c0617"
      },
      "execution_count": 26,
      "outputs": [
        {
          "output_type": "execute_result",
          "data": {
            "text/plain": [
              "Discipline\n",
              "History             0.721242\n",
              "Biology             0.712620\n",
              "Computer Science    0.712111\n",
              "Engineering         0.711888\n",
              "Psychology          0.708745\n",
              "Business            0.697163\n",
              "Math                0.680731\n",
              "Name: UsedAgain, dtype: float64"
            ],
            "text/html": [
              "<div>\n",
              "<style scoped>\n",
              "    .dataframe tbody tr th:only-of-type {\n",
              "        vertical-align: middle;\n",
              "    }\n",
              "\n",
              "    .dataframe tbody tr th {\n",
              "        vertical-align: top;\n",
              "    }\n",
              "\n",
              "    .dataframe thead th {\n",
              "        text-align: right;\n",
              "    }\n",
              "</style>\n",
              "<table border=\"1\" class=\"dataframe\">\n",
              "  <thead>\n",
              "    <tr style=\"text-align: right;\">\n",
              "      <th></th>\n",
              "      <th>UsedAgain</th>\n",
              "    </tr>\n",
              "    <tr>\n",
              "      <th>Discipline</th>\n",
              "      <th></th>\n",
              "    </tr>\n",
              "  </thead>\n",
              "  <tbody>\n",
              "    <tr>\n",
              "      <th>History</th>\n",
              "      <td>0.721242</td>\n",
              "    </tr>\n",
              "    <tr>\n",
              "      <th>Biology</th>\n",
              "      <td>0.712620</td>\n",
              "    </tr>\n",
              "    <tr>\n",
              "      <th>Computer Science</th>\n",
              "      <td>0.712111</td>\n",
              "    </tr>\n",
              "    <tr>\n",
              "      <th>Engineering</th>\n",
              "      <td>0.711888</td>\n",
              "    </tr>\n",
              "    <tr>\n",
              "      <th>Psychology</th>\n",
              "      <td>0.708745</td>\n",
              "    </tr>\n",
              "    <tr>\n",
              "      <th>Business</th>\n",
              "      <td>0.697163</td>\n",
              "    </tr>\n",
              "    <tr>\n",
              "      <th>Math</th>\n",
              "      <td>0.680731</td>\n",
              "    </tr>\n",
              "  </tbody>\n",
              "</table>\n",
              "</div><br><label><b>dtype:</b> float64</label>"
            ]
          },
          "metadata": {},
          "execution_count": 26
        }
      ]
    },
    {
      "cell_type": "code",
      "source": [
        "df['Discipline'].value_counts()\n"
      ],
      "metadata": {
        "colab": {
          "base_uri": "https://localhost:8080/",
          "height": 335
        },
        "id": "pTI8o3JQwaQa",
        "outputId": "c0bb3f40-6b94-4105-99ba-2a206071eb75"
      },
      "execution_count": 31,
      "outputs": [
        {
          "output_type": "execute_result",
          "data": {
            "text/plain": [
              "Discipline\n",
              "Biology             1458\n",
              "Computer Science    1445\n",
              "Engineering         1430\n",
              "Math                1422\n",
              "Psychology          1418\n",
              "History             1417\n",
              "Business            1410\n",
              "Name: count, dtype: int64"
            ],
            "text/html": [
              "<div>\n",
              "<style scoped>\n",
              "    .dataframe tbody tr th:only-of-type {\n",
              "        vertical-align: middle;\n",
              "    }\n",
              "\n",
              "    .dataframe tbody tr th {\n",
              "        vertical-align: top;\n",
              "    }\n",
              "\n",
              "    .dataframe thead th {\n",
              "        text-align: right;\n",
              "    }\n",
              "</style>\n",
              "<table border=\"1\" class=\"dataframe\">\n",
              "  <thead>\n",
              "    <tr style=\"text-align: right;\">\n",
              "      <th></th>\n",
              "      <th>count</th>\n",
              "    </tr>\n",
              "    <tr>\n",
              "      <th>Discipline</th>\n",
              "      <th></th>\n",
              "    </tr>\n",
              "  </thead>\n",
              "  <tbody>\n",
              "    <tr>\n",
              "      <th>Biology</th>\n",
              "      <td>1458</td>\n",
              "    </tr>\n",
              "    <tr>\n",
              "      <th>Computer Science</th>\n",
              "      <td>1445</td>\n",
              "    </tr>\n",
              "    <tr>\n",
              "      <th>Engineering</th>\n",
              "      <td>1430</td>\n",
              "    </tr>\n",
              "    <tr>\n",
              "      <th>Math</th>\n",
              "      <td>1422</td>\n",
              "    </tr>\n",
              "    <tr>\n",
              "      <th>Psychology</th>\n",
              "      <td>1418</td>\n",
              "    </tr>\n",
              "    <tr>\n",
              "      <th>History</th>\n",
              "      <td>1417</td>\n",
              "    </tr>\n",
              "    <tr>\n",
              "      <th>Business</th>\n",
              "      <td>1410</td>\n",
              "    </tr>\n",
              "  </tbody>\n",
              "</table>\n",
              "</div><br><label><b>dtype:</b> int64</label>"
            ]
          },
          "metadata": {},
          "execution_count": 31
        }
      ]
    },
    {
      "cell_type": "code",
      "source": [
        "import pandas as pd\n",
        "import plotly.graph_objects as go\n",
        "\n",
        "# Datos\n",
        "data = {\n",
        "    'Discipline': ['Biology', 'Computer Science', 'Engineering', 'Math', 'Psychology', 'History', 'Business'],\n",
        "    'Sessions': [1458, 1445, 1430, 1422, 1418, 1417, 1410],\n",
        "    'UsedAgain': [0.712620, 0.712111, 0.711888, 0.680731, 0.708745, 0.721242, 0.697163],\n",
        "    'SatisfactionRating': [3.45, 3.416263, 3.380420, 3.419058, 3.432017, 3.438038, 3.387943]\n",
        "}\n",
        "\n",
        "df = pd.DataFrame(data)\n",
        "df = df.sort_values('Sessions', ascending=False)\n",
        "\n",
        "# Crear figura\n",
        "fig = go.Figure()\n",
        "\n",
        "# Barras de sesiones\n",
        "fig.add_trace(go.Bar(\n",
        "    x=df['Discipline'],\n",
        "    y=df['Sessions'],\n",
        "    name='Sesiones Totales',\n",
        "    marker_color='skyblue',\n",
        "    yaxis='y1'\n",
        "))\n",
        "\n",
        "# Línea de UsedAgain\n",
        "fig.add_trace(go.Scatter(\n",
        "    x=df['Discipline'],\n",
        "    y=df['UsedAgain'],\n",
        "    name='UsedAgain (%)',\n",
        "    mode='lines+markers',\n",
        "    marker=dict(symbol='circle', color='green'),\n",
        "    yaxis='y2'\n",
        "))\n",
        "\n",
        "# Línea de Satisfacción\n",
        "fig.add_trace(go.Scatter(\n",
        "    x=df['Discipline'],\n",
        "    y=df['SatisfactionRating'],\n",
        "    name='Satisfacción',\n",
        "    mode='lines+markers',\n",
        "    marker=dict(symbol='square', color='orange'),\n",
        "    yaxis='y2'\n",
        "))\n",
        "\n",
        "# Layout\n",
        "fig.update_layout(\n",
        "    #title='Comparación por Disciplina: Sesiones, Satisfacción y Fidelización (UsedAgain)',\n",
        "    xaxis=dict(title='Disciplina'),\n",
        "    yaxis=dict(title='Sesiones Totales', side='left', showgrid=False),\n",
        "    yaxis2=dict(title='UsedAgain / Satisfacción', overlaying='y', side='right'),\n",
        "    legend=dict(x=0.01, y=1.15, orientation='h'),\n",
        "    width=1000,\n",
        "    height=500,\n",
        "    margin=dict(l=60, r=60, t=80, b=40)\n",
        ")\n",
        "\n",
        "fig.show()\n"
      ],
      "metadata": {
        "colab": {
          "base_uri": "https://localhost:8080/",
          "height": 517
        },
        "id": "Xf8K2NtQz3NJ",
        "outputId": "0513bdd6-fc96-4ad3-ead6-0c23202556b1"
      },
      "execution_count": 35,
      "outputs": [
        {
          "output_type": "display_data",
          "data": {
            "text/html": [
              "<html>\n",
              "<head><meta charset=\"utf-8\" /></head>\n",
              "<body>\n",
              "    <div>            <script src=\"https://cdnjs.cloudflare.com/ajax/libs/mathjax/2.7.5/MathJax.js?config=TeX-AMS-MML_SVG\"></script><script type=\"text/javascript\">if (window.MathJax && window.MathJax.Hub && window.MathJax.Hub.Config) {window.MathJax.Hub.Config({SVG: {font: \"STIX-Web\"}});}</script>                <script type=\"text/javascript\">window.PlotlyConfig = {MathJaxConfig: 'local'};</script>\n",
              "        <script charset=\"utf-8\" src=\"https://cdn.plot.ly/plotly-2.35.2.min.js\"></script>                <div id=\"30748586-345e-4924-83ac-f4476cb48408\" class=\"plotly-graph-div\" style=\"height:500px; width:1000px;\"></div>            <script type=\"text/javascript\">                                    window.PLOTLYENV=window.PLOTLYENV || {};                                    if (document.getElementById(\"30748586-345e-4924-83ac-f4476cb48408\")) {                    Plotly.newPlot(                        \"30748586-345e-4924-83ac-f4476cb48408\",                        [{\"marker\":{\"color\":\"skyblue\"},\"name\":\"Sesiones Totales\",\"x\":[\"Biology\",\"Computer Science\",\"Engineering\",\"Math\",\"Psychology\",\"History\",\"Business\"],\"y\":[1458,1445,1430,1422,1418,1417,1410],\"yaxis\":\"y\",\"type\":\"bar\"},{\"marker\":{\"color\":\"green\",\"symbol\":\"circle\"},\"mode\":\"lines+markers\",\"name\":\"UsedAgain (%)\",\"x\":[\"Biology\",\"Computer Science\",\"Engineering\",\"Math\",\"Psychology\",\"History\",\"Business\"],\"y\":[0.71262,0.712111,0.711888,0.680731,0.708745,0.721242,0.697163],\"yaxis\":\"y2\",\"type\":\"scatter\"},{\"marker\":{\"color\":\"orange\",\"symbol\":\"square\"},\"mode\":\"lines+markers\",\"name\":\"Satisfacción\",\"x\":[\"Biology\",\"Computer Science\",\"Engineering\",\"Math\",\"Psychology\",\"History\",\"Business\"],\"y\":[3.45,3.416263,3.38042,3.419058,3.432017,3.438038,3.387943],\"yaxis\":\"y2\",\"type\":\"scatter\"}],                        {\"template\":{\"data\":{\"histogram2dcontour\":[{\"type\":\"histogram2dcontour\",\"colorbar\":{\"outlinewidth\":0,\"ticks\":\"\"},\"colorscale\":[[0.0,\"#0d0887\"],[0.1111111111111111,\"#46039f\"],[0.2222222222222222,\"#7201a8\"],[0.3333333333333333,\"#9c179e\"],[0.4444444444444444,\"#bd3786\"],[0.5555555555555556,\"#d8576b\"],[0.6666666666666666,\"#ed7953\"],[0.7777777777777778,\"#fb9f3a\"],[0.8888888888888888,\"#fdca26\"],[1.0,\"#f0f921\"]]}],\"choropleth\":[{\"type\":\"choropleth\",\"colorbar\":{\"outlinewidth\":0,\"ticks\":\"\"}}],\"histogram2d\":[{\"type\":\"histogram2d\",\"colorbar\":{\"outlinewidth\":0,\"ticks\":\"\"},\"colorscale\":[[0.0,\"#0d0887\"],[0.1111111111111111,\"#46039f\"],[0.2222222222222222,\"#7201a8\"],[0.3333333333333333,\"#9c179e\"],[0.4444444444444444,\"#bd3786\"],[0.5555555555555556,\"#d8576b\"],[0.6666666666666666,\"#ed7953\"],[0.7777777777777778,\"#fb9f3a\"],[0.8888888888888888,\"#fdca26\"],[1.0,\"#f0f921\"]]}],\"heatmap\":[{\"type\":\"heatmap\",\"colorbar\":{\"outlinewidth\":0,\"ticks\":\"\"},\"colorscale\":[[0.0,\"#0d0887\"],[0.1111111111111111,\"#46039f\"],[0.2222222222222222,\"#7201a8\"],[0.3333333333333333,\"#9c179e\"],[0.4444444444444444,\"#bd3786\"],[0.5555555555555556,\"#d8576b\"],[0.6666666666666666,\"#ed7953\"],[0.7777777777777778,\"#fb9f3a\"],[0.8888888888888888,\"#fdca26\"],[1.0,\"#f0f921\"]]}],\"heatmapgl\":[{\"type\":\"heatmapgl\",\"colorbar\":{\"outlinewidth\":0,\"ticks\":\"\"},\"colorscale\":[[0.0,\"#0d0887\"],[0.1111111111111111,\"#46039f\"],[0.2222222222222222,\"#7201a8\"],[0.3333333333333333,\"#9c179e\"],[0.4444444444444444,\"#bd3786\"],[0.5555555555555556,\"#d8576b\"],[0.6666666666666666,\"#ed7953\"],[0.7777777777777778,\"#fb9f3a\"],[0.8888888888888888,\"#fdca26\"],[1.0,\"#f0f921\"]]}],\"contourcarpet\":[{\"type\":\"contourcarpet\",\"colorbar\":{\"outlinewidth\":0,\"ticks\":\"\"}}],\"contour\":[{\"type\":\"contour\",\"colorbar\":{\"outlinewidth\":0,\"ticks\":\"\"},\"colorscale\":[[0.0,\"#0d0887\"],[0.1111111111111111,\"#46039f\"],[0.2222222222222222,\"#7201a8\"],[0.3333333333333333,\"#9c179e\"],[0.4444444444444444,\"#bd3786\"],[0.5555555555555556,\"#d8576b\"],[0.6666666666666666,\"#ed7953\"],[0.7777777777777778,\"#fb9f3a\"],[0.8888888888888888,\"#fdca26\"],[1.0,\"#f0f921\"]]}],\"surface\":[{\"type\":\"surface\",\"colorbar\":{\"outlinewidth\":0,\"ticks\":\"\"},\"colorscale\":[[0.0,\"#0d0887\"],[0.1111111111111111,\"#46039f\"],[0.2222222222222222,\"#7201a8\"],[0.3333333333333333,\"#9c179e\"],[0.4444444444444444,\"#bd3786\"],[0.5555555555555556,\"#d8576b\"],[0.6666666666666666,\"#ed7953\"],[0.7777777777777778,\"#fb9f3a\"],[0.8888888888888888,\"#fdca26\"],[1.0,\"#f0f921\"]]}],\"mesh3d\":[{\"type\":\"mesh3d\",\"colorbar\":{\"outlinewidth\":0,\"ticks\":\"\"}}],\"scatter\":[{\"fillpattern\":{\"fillmode\":\"overlay\",\"size\":10,\"solidity\":0.2},\"type\":\"scatter\"}],\"parcoords\":[{\"type\":\"parcoords\",\"line\":{\"colorbar\":{\"outlinewidth\":0,\"ticks\":\"\"}}}],\"scatterpolargl\":[{\"type\":\"scatterpolargl\",\"marker\":{\"colorbar\":{\"outlinewidth\":0,\"ticks\":\"\"}}}],\"bar\":[{\"error_x\":{\"color\":\"#2a3f5f\"},\"error_y\":{\"color\":\"#2a3f5f\"},\"marker\":{\"line\":{\"color\":\"#E5ECF6\",\"width\":0.5},\"pattern\":{\"fillmode\":\"overlay\",\"size\":10,\"solidity\":0.2}},\"type\":\"bar\"}],\"scattergeo\":[{\"type\":\"scattergeo\",\"marker\":{\"colorbar\":{\"outlinewidth\":0,\"ticks\":\"\"}}}],\"scatterpolar\":[{\"type\":\"scatterpolar\",\"marker\":{\"colorbar\":{\"outlinewidth\":0,\"ticks\":\"\"}}}],\"histogram\":[{\"marker\":{\"pattern\":{\"fillmode\":\"overlay\",\"size\":10,\"solidity\":0.2}},\"type\":\"histogram\"}],\"scattergl\":[{\"type\":\"scattergl\",\"marker\":{\"colorbar\":{\"outlinewidth\":0,\"ticks\":\"\"}}}],\"scatter3d\":[{\"type\":\"scatter3d\",\"line\":{\"colorbar\":{\"outlinewidth\":0,\"ticks\":\"\"}},\"marker\":{\"colorbar\":{\"outlinewidth\":0,\"ticks\":\"\"}}}],\"scattermapbox\":[{\"type\":\"scattermapbox\",\"marker\":{\"colorbar\":{\"outlinewidth\":0,\"ticks\":\"\"}}}],\"scatterternary\":[{\"type\":\"scatterternary\",\"marker\":{\"colorbar\":{\"outlinewidth\":0,\"ticks\":\"\"}}}],\"scattercarpet\":[{\"type\":\"scattercarpet\",\"marker\":{\"colorbar\":{\"outlinewidth\":0,\"ticks\":\"\"}}}],\"carpet\":[{\"aaxis\":{\"endlinecolor\":\"#2a3f5f\",\"gridcolor\":\"white\",\"linecolor\":\"white\",\"minorgridcolor\":\"white\",\"startlinecolor\":\"#2a3f5f\"},\"baxis\":{\"endlinecolor\":\"#2a3f5f\",\"gridcolor\":\"white\",\"linecolor\":\"white\",\"minorgridcolor\":\"white\",\"startlinecolor\":\"#2a3f5f\"},\"type\":\"carpet\"}],\"table\":[{\"cells\":{\"fill\":{\"color\":\"#EBF0F8\"},\"line\":{\"color\":\"white\"}},\"header\":{\"fill\":{\"color\":\"#C8D4E3\"},\"line\":{\"color\":\"white\"}},\"type\":\"table\"}],\"barpolar\":[{\"marker\":{\"line\":{\"color\":\"#E5ECF6\",\"width\":0.5},\"pattern\":{\"fillmode\":\"overlay\",\"size\":10,\"solidity\":0.2}},\"type\":\"barpolar\"}],\"pie\":[{\"automargin\":true,\"type\":\"pie\"}]},\"layout\":{\"autotypenumbers\":\"strict\",\"colorway\":[\"#636efa\",\"#EF553B\",\"#00cc96\",\"#ab63fa\",\"#FFA15A\",\"#19d3f3\",\"#FF6692\",\"#B6E880\",\"#FF97FF\",\"#FECB52\"],\"font\":{\"color\":\"#2a3f5f\"},\"hovermode\":\"closest\",\"hoverlabel\":{\"align\":\"left\"},\"paper_bgcolor\":\"white\",\"plot_bgcolor\":\"#E5ECF6\",\"polar\":{\"bgcolor\":\"#E5ECF6\",\"angularaxis\":{\"gridcolor\":\"white\",\"linecolor\":\"white\",\"ticks\":\"\"},\"radialaxis\":{\"gridcolor\":\"white\",\"linecolor\":\"white\",\"ticks\":\"\"}},\"ternary\":{\"bgcolor\":\"#E5ECF6\",\"aaxis\":{\"gridcolor\":\"white\",\"linecolor\":\"white\",\"ticks\":\"\"},\"baxis\":{\"gridcolor\":\"white\",\"linecolor\":\"white\",\"ticks\":\"\"},\"caxis\":{\"gridcolor\":\"white\",\"linecolor\":\"white\",\"ticks\":\"\"}},\"coloraxis\":{\"colorbar\":{\"outlinewidth\":0,\"ticks\":\"\"}},\"colorscale\":{\"sequential\":[[0.0,\"#0d0887\"],[0.1111111111111111,\"#46039f\"],[0.2222222222222222,\"#7201a8\"],[0.3333333333333333,\"#9c179e\"],[0.4444444444444444,\"#bd3786\"],[0.5555555555555556,\"#d8576b\"],[0.6666666666666666,\"#ed7953\"],[0.7777777777777778,\"#fb9f3a\"],[0.8888888888888888,\"#fdca26\"],[1.0,\"#f0f921\"]],\"sequentialminus\":[[0.0,\"#0d0887\"],[0.1111111111111111,\"#46039f\"],[0.2222222222222222,\"#7201a8\"],[0.3333333333333333,\"#9c179e\"],[0.4444444444444444,\"#bd3786\"],[0.5555555555555556,\"#d8576b\"],[0.6666666666666666,\"#ed7953\"],[0.7777777777777778,\"#fb9f3a\"],[0.8888888888888888,\"#fdca26\"],[1.0,\"#f0f921\"]],\"diverging\":[[0,\"#8e0152\"],[0.1,\"#c51b7d\"],[0.2,\"#de77ae\"],[0.3,\"#f1b6da\"],[0.4,\"#fde0ef\"],[0.5,\"#f7f7f7\"],[0.6,\"#e6f5d0\"],[0.7,\"#b8e186\"],[0.8,\"#7fbc41\"],[0.9,\"#4d9221\"],[1,\"#276419\"]]},\"xaxis\":{\"gridcolor\":\"white\",\"linecolor\":\"white\",\"ticks\":\"\",\"title\":{\"standoff\":15},\"zerolinecolor\":\"white\",\"automargin\":true,\"zerolinewidth\":2},\"yaxis\":{\"gridcolor\":\"white\",\"linecolor\":\"white\",\"ticks\":\"\",\"title\":{\"standoff\":15},\"zerolinecolor\":\"white\",\"automargin\":true,\"zerolinewidth\":2},\"scene\":{\"xaxis\":{\"backgroundcolor\":\"#E5ECF6\",\"gridcolor\":\"white\",\"linecolor\":\"white\",\"showbackground\":true,\"ticks\":\"\",\"zerolinecolor\":\"white\",\"gridwidth\":2},\"yaxis\":{\"backgroundcolor\":\"#E5ECF6\",\"gridcolor\":\"white\",\"linecolor\":\"white\",\"showbackground\":true,\"ticks\":\"\",\"zerolinecolor\":\"white\",\"gridwidth\":2},\"zaxis\":{\"backgroundcolor\":\"#E5ECF6\",\"gridcolor\":\"white\",\"linecolor\":\"white\",\"showbackground\":true,\"ticks\":\"\",\"zerolinecolor\":\"white\",\"gridwidth\":2}},\"shapedefaults\":{\"line\":{\"color\":\"#2a3f5f\"}},\"annotationdefaults\":{\"arrowcolor\":\"#2a3f5f\",\"arrowhead\":0,\"arrowwidth\":1},\"geo\":{\"bgcolor\":\"white\",\"landcolor\":\"#E5ECF6\",\"subunitcolor\":\"white\",\"showland\":true,\"showlakes\":true,\"lakecolor\":\"white\"},\"title\":{\"x\":0.05},\"mapbox\":{\"style\":\"light\"}}},\"yaxis\":{\"title\":{\"text\":\"Sesiones Totales\"},\"side\":\"left\",\"showgrid\":false},\"yaxis2\":{\"title\":{\"text\":\"UsedAgain \\u002f Satisfacción\"},\"overlaying\":\"y\",\"side\":\"right\"},\"legend\":{\"x\":0.01,\"y\":1.15,\"orientation\":\"h\"},\"margin\":{\"l\":60,\"r\":60,\"t\":80,\"b\":40},\"xaxis\":{\"title\":{\"text\":\"Disciplina\"}},\"width\":1000,\"height\":500},                        {\"responsive\": true}                    ).then(function(){\n",
              "                            \n",
              "var gd = document.getElementById('30748586-345e-4924-83ac-f4476cb48408');\n",
              "var x = new MutationObserver(function (mutations, observer) {{\n",
              "        var display = window.getComputedStyle(gd).display;\n",
              "        if (!display || display === 'none') {{\n",
              "            console.log([gd, 'removed!']);\n",
              "            Plotly.purge(gd);\n",
              "            observer.disconnect();\n",
              "        }}\n",
              "}});\n",
              "\n",
              "// Listen for the removal of the full notebook cells\n",
              "var notebookContainer = gd.closest('#notebook-container');\n",
              "if (notebookContainer) {{\n",
              "    x.observe(notebookContainer, {childList: true});\n",
              "}}\n",
              "\n",
              "// Listen for the clearing of the current output cell\n",
              "var outputEl = gd.closest('.output');\n",
              "if (outputEl) {{\n",
              "    x.observe(outputEl, {childList: true});\n",
              "}}\n",
              "\n",
              "                        })                };                            </script>        </div>\n",
              "</body>\n",
              "</html>"
            ]
          },
          "metadata": {}
        }
      ]
    },
    {
      "cell_type": "markdown",
      "source": [
        "****"
      ],
      "metadata": {
        "id": "XodL4Aqcpfzs"
      }
    },
    {
      "cell_type": "markdown",
      "source": [
        "#**CONCLUSIONES**"
      ],
      "metadata": {
        "id": "y1iGci8TlsZZ"
      }
    },
    {
      "cell_type": "markdown",
      "source": [
        "**Las carreras centradas en la escritura y el análisis textual muestran una mayor adopción y reutilización, mientras que las disciplinas técnicas lo utilizan como una herramienta complementaria.**"
      ],
      "metadata": {
        "id": "Aws6MI1Ifu92"
      }
    },
    {
      "cell_type": "markdown",
      "source": [
        "**📌 Conclusiones Finales**\n",
        "La visualización muestra tres aspectos clave por disciplina académica:\n",
        "🔹 El total de sesiones donde se utilizó IA (barras azules)\n",
        "🔹 El porcentaje de estudiantes que volverían a usarla (UsedAgain, línea verde)\n",
        "🔹 El nivel de satisfacción promedio con la experiencia (línea naranja)\n",
        "\n",
        "**🔍 ¿Cómo llegamos a estos insights?**\n",
        "Recuento de sesiones por disciplina:\n",
        "Usamos value_counts() y groupby() para identificar que Biología es la carrera con más sesiones, seguida muy de cerca por Computer Science y Engineering.\n",
        "\n",
        "**Porcentaje de fidelización (UsedAgain):**\n",
        "Calculamos el promedio de la columna UsedAgain para cada disciplina usando .groupby('Discipline')['UsedAgain'].mean().\n",
        "Encontramos que Historia tiene el mayor porcentaje de estudiantes que volverían a usar IA (72.1%), lo que indica un alto valor percibido.\n",
        "\n",
        "**Satisfacción promedio:**\n",
        "Usamos .groupby('Discipline')['SatisfactionRating'].mean() para medir qué tan contentos estaban los estudiantes con su experiencia.\n",
        "Aunque Biología lidera en número de sesiones, Historia le sigue muy de cerca en satisfacción, reforzando su fidelización.\n",
        "\n",
        "**🧠 ¿Qué entendemos con esto?**\n",
        "Cantidad no es calidad: Aunque Biología tiene más sesiones, Historia logra que sus usuarios regresen más. Esto sugiere que el tipo de tareas o la forma en que usan IA en Historia es más efectiva o gratificante.\n",
        "\n",
        "**Perfil del usuario influye:** Biología tiene mayor uso posiblemente porque es común en los primeros niveles educativos, donde los estudiantes están más abiertos a experimentar con nuevas tecnologías como la IA.\n",
        "\n",
        "Satisfacción y fidelización están relacionadas, pero no son lo mismo: La alta satisfacción en varias disciplinas no siempre se traduce en más uso futuro. Esto muestra que hay más factores en juego, como la utilidad práctica o el contexto de uso."
      ],
      "metadata": {
        "id": "WQs0kIjblhQu"
      }
    }
  ]
}